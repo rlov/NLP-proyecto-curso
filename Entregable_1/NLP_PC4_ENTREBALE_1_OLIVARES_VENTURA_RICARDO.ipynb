{
  "nbformat": 4,
  "nbformat_minor": 0,
  "metadata": {
    "colab": {
      "provenance": []
    },
    "kernelspec": {
      "name": "python3",
      "display_name": "Python 3"
    },
    "language_info": {
      "name": "python"
    }
  },
  "cells": [
    {
      "cell_type": "code",
      "source": [
        "!pip install datasets"
      ],
      "metadata": {
        "colab": {
          "base_uri": "https://localhost:8080/"
        },
        "id": "cYu5gQB1ei2r",
        "outputId": "e635f1c5-4ecc-48ec-cbc6-1ba6bb8ce3c6"
      },
      "execution_count": null,
      "outputs": [
        {
          "output_type": "stream",
          "name": "stdout",
          "text": [
            "Collecting datasets\n",
            "  Downloading datasets-3.1.0-py3-none-any.whl.metadata (20 kB)\n",
            "Requirement already satisfied: filelock in /usr/local/lib/python3.10/dist-packages (from datasets) (3.16.1)\n",
            "Requirement already satisfied: numpy>=1.17 in /usr/local/lib/python3.10/dist-packages (from datasets) (1.26.4)\n",
            "Requirement already satisfied: pyarrow>=15.0.0 in /usr/local/lib/python3.10/dist-packages (from datasets) (17.0.0)\n",
            "Collecting dill<0.3.9,>=0.3.0 (from datasets)\n",
            "  Downloading dill-0.3.8-py3-none-any.whl.metadata (10 kB)\n",
            "Requirement already satisfied: pandas in /usr/local/lib/python3.10/dist-packages (from datasets) (2.2.2)\n",
            "Requirement already satisfied: requests>=2.32.2 in /usr/local/lib/python3.10/dist-packages (from datasets) (2.32.3)\n",
            "Requirement already satisfied: tqdm>=4.66.3 in /usr/local/lib/python3.10/dist-packages (from datasets) (4.66.6)\n",
            "Collecting xxhash (from datasets)\n",
            "  Downloading xxhash-3.5.0-cp310-cp310-manylinux_2_17_x86_64.manylinux2014_x86_64.whl.metadata (12 kB)\n",
            "Collecting multiprocess<0.70.17 (from datasets)\n",
            "  Downloading multiprocess-0.70.16-py310-none-any.whl.metadata (7.2 kB)\n",
            "Collecting fsspec<=2024.9.0,>=2023.1.0 (from fsspec[http]<=2024.9.0,>=2023.1.0->datasets)\n",
            "  Downloading fsspec-2024.9.0-py3-none-any.whl.metadata (11 kB)\n",
            "Requirement already satisfied: aiohttp in /usr/local/lib/python3.10/dist-packages (from datasets) (3.11.2)\n",
            "Requirement already satisfied: huggingface-hub>=0.23.0 in /usr/local/lib/python3.10/dist-packages (from datasets) (0.26.2)\n",
            "Requirement already satisfied: packaging in /usr/local/lib/python3.10/dist-packages (from datasets) (24.2)\n",
            "Requirement already satisfied: pyyaml>=5.1 in /usr/local/lib/python3.10/dist-packages (from datasets) (6.0.2)\n",
            "Requirement already satisfied: aiohappyeyeballs>=2.3.0 in /usr/local/lib/python3.10/dist-packages (from aiohttp->datasets) (2.4.3)\n",
            "Requirement already satisfied: aiosignal>=1.1.2 in /usr/local/lib/python3.10/dist-packages (from aiohttp->datasets) (1.3.1)\n",
            "Requirement already satisfied: attrs>=17.3.0 in /usr/local/lib/python3.10/dist-packages (from aiohttp->datasets) (24.2.0)\n",
            "Requirement already satisfied: frozenlist>=1.1.1 in /usr/local/lib/python3.10/dist-packages (from aiohttp->datasets) (1.5.0)\n",
            "Requirement already satisfied: multidict<7.0,>=4.5 in /usr/local/lib/python3.10/dist-packages (from aiohttp->datasets) (6.1.0)\n",
            "Requirement already satisfied: propcache>=0.2.0 in /usr/local/lib/python3.10/dist-packages (from aiohttp->datasets) (0.2.0)\n",
            "Requirement already satisfied: yarl<2.0,>=1.17.0 in /usr/local/lib/python3.10/dist-packages (from aiohttp->datasets) (1.17.2)\n",
            "Requirement already satisfied: async-timeout<6.0,>=4.0 in /usr/local/lib/python3.10/dist-packages (from aiohttp->datasets) (4.0.3)\n",
            "Requirement already satisfied: typing-extensions>=3.7.4.3 in /usr/local/lib/python3.10/dist-packages (from huggingface-hub>=0.23.0->datasets) (4.12.2)\n",
            "Requirement already satisfied: charset-normalizer<4,>=2 in /usr/local/lib/python3.10/dist-packages (from requests>=2.32.2->datasets) (3.4.0)\n",
            "Requirement already satisfied: idna<4,>=2.5 in /usr/local/lib/python3.10/dist-packages (from requests>=2.32.2->datasets) (3.10)\n",
            "Requirement already satisfied: urllib3<3,>=1.21.1 in /usr/local/lib/python3.10/dist-packages (from requests>=2.32.2->datasets) (2.2.3)\n",
            "Requirement already satisfied: certifi>=2017.4.17 in /usr/local/lib/python3.10/dist-packages (from requests>=2.32.2->datasets) (2024.8.30)\n",
            "Requirement already satisfied: python-dateutil>=2.8.2 in /usr/local/lib/python3.10/dist-packages (from pandas->datasets) (2.8.2)\n",
            "Requirement already satisfied: pytz>=2020.1 in /usr/local/lib/python3.10/dist-packages (from pandas->datasets) (2024.2)\n",
            "Requirement already satisfied: tzdata>=2022.7 in /usr/local/lib/python3.10/dist-packages (from pandas->datasets) (2024.2)\n",
            "Requirement already satisfied: six>=1.5 in /usr/local/lib/python3.10/dist-packages (from python-dateutil>=2.8.2->pandas->datasets) (1.16.0)\n",
            "Downloading datasets-3.1.0-py3-none-any.whl (480 kB)\n",
            "\u001b[2K   \u001b[90m━━━━━━━━━━━━━━━━━━━━━━━━━━━━━━━━━━━━━━━━\u001b[0m \u001b[32m480.6/480.6 kB\u001b[0m \u001b[31m9.2 MB/s\u001b[0m eta \u001b[36m0:00:00\u001b[0m\n",
            "\u001b[?25hDownloading dill-0.3.8-py3-none-any.whl (116 kB)\n",
            "\u001b[2K   \u001b[90m━━━━━━━━━━━━━━━━━━━━━━━━━━━━━━━━━━━━━━━━\u001b[0m \u001b[32m116.3/116.3 kB\u001b[0m \u001b[31m8.2 MB/s\u001b[0m eta \u001b[36m0:00:00\u001b[0m\n",
            "\u001b[?25hDownloading fsspec-2024.9.0-py3-none-any.whl (179 kB)\n",
            "\u001b[2K   \u001b[90m━━━━━━━━━━━━━━━━━━━━━━━━━━━━━━━━━━━━━━━━\u001b[0m \u001b[32m179.3/179.3 kB\u001b[0m \u001b[31m9.5 MB/s\u001b[0m eta \u001b[36m0:00:00\u001b[0m\n",
            "\u001b[?25hDownloading multiprocess-0.70.16-py310-none-any.whl (134 kB)\n",
            "\u001b[2K   \u001b[90m━━━━━━━━━━━━━━━━━━━━━━━━━━━━━━━━━━━━━━━━\u001b[0m \u001b[32m134.8/134.8 kB\u001b[0m \u001b[31m9.0 MB/s\u001b[0m eta \u001b[36m0:00:00\u001b[0m\n",
            "\u001b[?25hDownloading xxhash-3.5.0-cp310-cp310-manylinux_2_17_x86_64.manylinux2014_x86_64.whl (194 kB)\n",
            "\u001b[2K   \u001b[90m━━━━━━━━━━━━━━━━━━━━━━━━━━━━━━━━━━━━━━━━\u001b[0m \u001b[32m194.1/194.1 kB\u001b[0m \u001b[31m9.8 MB/s\u001b[0m eta \u001b[36m0:00:00\u001b[0m\n",
            "\u001b[?25hInstalling collected packages: xxhash, fsspec, dill, multiprocess, datasets\n",
            "  Attempting uninstall: fsspec\n",
            "    Found existing installation: fsspec 2024.10.0\n",
            "    Uninstalling fsspec-2024.10.0:\n",
            "      Successfully uninstalled fsspec-2024.10.0\n",
            "\u001b[31mERROR: pip's dependency resolver does not currently take into account all the packages that are installed. This behaviour is the source of the following dependency conflicts.\n",
            "gcsfs 2024.10.0 requires fsspec==2024.10.0, but you have fsspec 2024.9.0 which is incompatible.\u001b[0m\u001b[31m\n",
            "\u001b[0mSuccessfully installed datasets-3.1.0 dill-0.3.8 fsspec-2024.9.0 multiprocess-0.70.16 xxhash-3.5.0\n"
          ]
        }
      ]
    },
    {
      "cell_type": "code",
      "source": [
        "import torch\n",
        "from transformers import BertTokenizer, BertForSequenceClassification, Trainer, TrainingArguments\n",
        "from datasets import load_dataset\n",
        "from torch.nn.utils import prune\n",
        "\n",
        "# Cargar modelo BERT base preentrenado y tokenizer\n",
        "model_name = \"bert-base-uncased\"\n",
        "tokenizer = BertTokenizer.from_pretrained(model_name)\n",
        "model = BertForSequenceClassification.from_pretrained(model_name, num_labels=2)\n",
        "\n",
        "# Cargar conjunto de datos\n",
        "# Este dataset contiene frases extraídas de reseñas de películas\n",
        "# y está etiquetado para el análisis de sentimientos. Cada frase\n",
        "# está asociada con una eitqueta que indica si el sentimiento expresado\n",
        "# es positivo o negativo\n",
        "dataset = load_dataset(\"glue\", \"sst2\")\n",
        "encoded_dataset = dataset.map(\n",
        "    lambda examples: tokenizer(examples['sentence'], truncation=True, padding='max_length'), batched=True\n",
        ")\n",
        "\n",
        "# Separar en conjuntos de entrenamiento y prueba\n",
        "train_dataset = encoded_dataset[\"train\"]\n",
        "test_dataset = encoded_dataset[\"validation\"]\n",
        "\n",
        "# Función para evaluar el modelo\n",
        "def evaluate_model(model, dataset):\n",
        "    trainer = Trainer(\n",
        "        model=model,  # El modelo que será evaluado\n",
        "        eval_dataset=dataset,  # Conjunto de datos para evaluación\n",
        "        tokenizer=tokenizer,\n",
        "    )\n",
        "    eval_results = trainer.evaluate()  # Realiza la evaluación\n",
        "    return eval_results  # Devuelve las métricas de evaluación\n",
        "\n",
        "# Configuración del entrenamiento\n",
        "training_args = TrainingArguments(\n",
        "    output_dir=\"./results\",\n",
        "    evaluation_strategy=\"epoch\",\n",
        "    learning_rate=2e-5,\n",
        "    per_device_train_batch_size=16,\n",
        "    num_train_epochs=3,\n",
        "    weight_decay=0.01,\n",
        "    logging_dir=\"./logs\",\n",
        "    logging_steps=10,\n",
        ")\n",
        "\n",
        "# Crear el Trainer\n",
        "trainer = Trainer(\n",
        "    model=model,\n",
        "    args=training_args,\n",
        "    train_dataset=train_dataset,\n",
        "    eval_dataset=test_dataset,\n",
        "    tokenizer=tokenizer,\n",
        ")\n",
        "\n",
        "# Evaluar modelo antes del pruning\n",
        "print(\"Evaluación antes del pruning:\")\n",
        "eval_before = evaluate_model(model, test_dataset)\n",
        "print(eval_before)"
      ],
      "metadata": {
        "colab": {
          "base_uri": "https://localhost:8080/",
          "height": 231
        },
        "id": "BgVAtqPZedJN",
        "outputId": "5ddb6f07-2a13-4114-dd44-1d3286a4759c"
      },
      "execution_count": null,
      "outputs": [
        {
          "output_type": "stream",
          "name": "stderr",
          "text": [
            "Some weights of BertForSequenceClassification were not initialized from the model checkpoint at bert-base-uncased and are newly initialized: ['classifier.bias', 'classifier.weight']\n",
            "You should probably TRAIN this model on a down-stream task to be able to use it for predictions and inference.\n",
            "/usr/local/lib/python3.10/dist-packages/transformers/training_args.py:1568: FutureWarning: `evaluation_strategy` is deprecated and will be removed in version 4.46 of 🤗 Transformers. Use `eval_strategy` instead\n",
            "  warnings.warn(\n",
            "<ipython-input-16-71dfe692718e>:48: FutureWarning: `tokenizer` is deprecated and will be removed in version 5.0.0 for `Trainer.__init__`. Use `processing_class` instead.\n",
            "  trainer = Trainer(\n",
            "<ipython-input-16-71dfe692718e>:27: FutureWarning: `tokenizer` is deprecated and will be removed in version 5.0.0 for `Trainer.__init__`. Use `processing_class` instead.\n",
            "  trainer = Trainer(\n"
          ]
        },
        {
          "output_type": "stream",
          "name": "stdout",
          "text": [
            "Evaluación antes del pruning:\n"
          ]
        },
        {
          "output_type": "display_data",
          "data": {
            "text/plain": [
              "<IPython.core.display.HTML object>"
            ],
            "text/html": [
              "\n",
              "    <div>\n",
              "      \n",
              "      <progress value='109' max='109' style='width:300px; height:20px; vertical-align: middle;'></progress>\n",
              "      [109/109 26:57]\n",
              "    </div>\n",
              "    "
            ]
          },
          "metadata": {}
        },
        {
          "output_type": "stream",
          "name": "stdout",
          "text": [
            "{'eval_loss': 0.7274540662765503, 'eval_model_preparation_time': 0.0039, 'eval_runtime': 1631.8359, 'eval_samples_per_second': 0.534, 'eval_steps_per_second': 0.067}\n"
          ]
        }
      ]
    },
    {
      "cell_type": "markdown",
      "source": [
        "Para aplicar pruning en BERT, debemos reducir el número de parámetros eliminando conexiones o capas innecesarias de la red. Este enfoque puede incluir:\n",
        "\n",
        "1. Reducción del número de capas del codificador (n_layers)\n",
        "2. Reducción del número de cabezas de atención multi-cabecera (n_heads)\n",
        "3. Reducción de dimensiones de embedding (d_model, d_ff)\n",
        "4. Eliminación de neuronas no significativas en las capas lineales\n",
        "5. Uso de técnicas de sparsity (enmascarar pesos cercanos a cero)"
      ],
      "metadata": {
        "id": "zmyjyptC-E16"
      }
    },
    {
      "cell_type": "code",
      "source": [
        "import torch\n",
        "from transformers import BertTokenizer, BertForSequenceClassification, Trainer, TrainingArguments\n",
        "from datasets import load_dataset\n",
        "from torch.nn.utils import prune\n",
        "\n",
        "# Cargar modelo BERT base preentrenado y tokenizer\n",
        "model_name = \"bert-base-uncased\"\n",
        "tokenizer = BertTokenizer.from_pretrained(model_name)\n",
        "model = BertForSequenceClassification.from_pretrained(model_name, num_labels=2)\n",
        "\n",
        "# Cargar conjunto de datos\n",
        "# Este dataset contiene frases extraídas de reseñas de películas\n",
        "# y está etiquetado para el análisis de sentimientos. Cada frase\n",
        "# está asociada con una eitqueta que indica si el sentimiento expresado\n",
        "# es positivo o negativo\n",
        "dataset = load_dataset(\"glue\", \"sst2\")\n",
        "encoded_dataset = dataset.map(\n",
        "    lambda examples: tokenizer(examples['sentence'], truncation=True, padding='max_length'), batched=True\n",
        ")\n",
        "\n",
        "# Separar en conjuntos de entrenamiento y prueba\n",
        "train_dataset = encoded_dataset[\"train\"]\n",
        "test_dataset = encoded_dataset[\"validation\"]\n",
        "\n",
        "# Función para evaluar el modelo\n",
        "def evaluate_model(model, dataset):\n",
        "    trainer = Trainer(\n",
        "        model=model,  # El modelo que será evaluado\n",
        "        eval_dataset=dataset,  # Conjunto de datos para evaluación\n",
        "        tokenizer=tokenizer,\n",
        "    )\n",
        "    eval_results = trainer.evaluate()  # Realiza la evaluación\n",
        "    return eval_results  # Devuelve las métricas de evaluación\n",
        "\n",
        "def prune_bert(model, amount=0.3, prune_type='l1_unstructured', layers_to_prune=None):\n",
        "\n",
        "    if layers_to_prune is None:\n",
        "        # Si no se especifican capas, aplicamos pruning a todas las capas lineales\n",
        "        layers_to_prune = [name for name, module in model.named_modules() if isinstance(module, torch.nn.Linear)]\n",
        "\n",
        "    print(f\"Aplicando pruning con {amount*100}% de reducción utilizando {prune_type} a las siguientes capas:\")\n",
        "    print(layers_to_prune)\n",
        "\n",
        "    # Iterar sobre todas las capas especificadas y aplicar pruning\n",
        "    for name, module in model.named_modules():\n",
        "      # Aplicamos el pruning a las capas lineales porque son las capas que concentran\n",
        "      # la mayoría de los parámetros, por ello reducir el n'ú´mero depesos en estas\n",
        "      # capas tienen un impacto significativo\n",
        "        if name in layers_to_prune and isinstance(module, torch.nn.Linear):\n",
        "            print(f\"Pruning en la capa: {name} ({module.__class__.__name__})\")\n",
        "\n",
        "            # Aplicar el tipo de pruning especificado\n",
        "            if prune_type == 'l1_unstructured':\n",
        "                prune.l1_unstructured(module, name=\"weight\", amount=amount)\n",
        "            elif prune_type == 'random_unstructured':\n",
        "                prune.random_unstructured(module, name=\"weight\", amount=amount)\n",
        "            else:\n",
        "                raise ValueError(f\"Tipo de pruning '{prune_type}' no soportado.\")\n",
        "\n",
        "            # Consolidar pruning eliminando la máscara y dejando solo los pesos\n",
        "            prune.remove(module, \"weight\")\n",
        "\n",
        "    print(\"Pruning completado.\")\n",
        "\n",
        "# Aplicar pruning\n",
        "prune_bert(model, amount=0.3)\n"
      ],
      "metadata": {
        "colab": {
          "base_uri": "https://localhost:8080/"
        },
        "id": "UQqt_paOpQGo",
        "outputId": "fcd888cf-439e-40bc-b9d9-d0bc4293d5e4"
      },
      "execution_count": null,
      "outputs": [
        {
          "output_type": "stream",
          "name": "stderr",
          "text": [
            "Some weights of BertForSequenceClassification were not initialized from the model checkpoint at bert-base-uncased and are newly initialized: ['classifier.bias', 'classifier.weight']\n",
            "You should probably TRAIN this model on a down-stream task to be able to use it for predictions and inference.\n"
          ]
        },
        {
          "output_type": "stream",
          "name": "stdout",
          "text": [
            "Aplicando pruning con 30.0% de reducción utilizando l1_unstructured a las siguientes capas:\n",
            "['bert.encoder.layer.0.attention.self.query', 'bert.encoder.layer.0.attention.self.key', 'bert.encoder.layer.0.attention.self.value', 'bert.encoder.layer.0.attention.output.dense', 'bert.encoder.layer.0.intermediate.dense', 'bert.encoder.layer.0.output.dense', 'bert.encoder.layer.1.attention.self.query', 'bert.encoder.layer.1.attention.self.key', 'bert.encoder.layer.1.attention.self.value', 'bert.encoder.layer.1.attention.output.dense', 'bert.encoder.layer.1.intermediate.dense', 'bert.encoder.layer.1.output.dense', 'bert.encoder.layer.2.attention.self.query', 'bert.encoder.layer.2.attention.self.key', 'bert.encoder.layer.2.attention.self.value', 'bert.encoder.layer.2.attention.output.dense', 'bert.encoder.layer.2.intermediate.dense', 'bert.encoder.layer.2.output.dense', 'bert.encoder.layer.3.attention.self.query', 'bert.encoder.layer.3.attention.self.key', 'bert.encoder.layer.3.attention.self.value', 'bert.encoder.layer.3.attention.output.dense', 'bert.encoder.layer.3.intermediate.dense', 'bert.encoder.layer.3.output.dense', 'bert.encoder.layer.4.attention.self.query', 'bert.encoder.layer.4.attention.self.key', 'bert.encoder.layer.4.attention.self.value', 'bert.encoder.layer.4.attention.output.dense', 'bert.encoder.layer.4.intermediate.dense', 'bert.encoder.layer.4.output.dense', 'bert.encoder.layer.5.attention.self.query', 'bert.encoder.layer.5.attention.self.key', 'bert.encoder.layer.5.attention.self.value', 'bert.encoder.layer.5.attention.output.dense', 'bert.encoder.layer.5.intermediate.dense', 'bert.encoder.layer.5.output.dense', 'bert.encoder.layer.6.attention.self.query', 'bert.encoder.layer.6.attention.self.key', 'bert.encoder.layer.6.attention.self.value', 'bert.encoder.layer.6.attention.output.dense', 'bert.encoder.layer.6.intermediate.dense', 'bert.encoder.layer.6.output.dense', 'bert.encoder.layer.7.attention.self.query', 'bert.encoder.layer.7.attention.self.key', 'bert.encoder.layer.7.attention.self.value', 'bert.encoder.layer.7.attention.output.dense', 'bert.encoder.layer.7.intermediate.dense', 'bert.encoder.layer.7.output.dense', 'bert.encoder.layer.8.attention.self.query', 'bert.encoder.layer.8.attention.self.key', 'bert.encoder.layer.8.attention.self.value', 'bert.encoder.layer.8.attention.output.dense', 'bert.encoder.layer.8.intermediate.dense', 'bert.encoder.layer.8.output.dense', 'bert.encoder.layer.9.attention.self.query', 'bert.encoder.layer.9.attention.self.key', 'bert.encoder.layer.9.attention.self.value', 'bert.encoder.layer.9.attention.output.dense', 'bert.encoder.layer.9.intermediate.dense', 'bert.encoder.layer.9.output.dense', 'bert.encoder.layer.10.attention.self.query', 'bert.encoder.layer.10.attention.self.key', 'bert.encoder.layer.10.attention.self.value', 'bert.encoder.layer.10.attention.output.dense', 'bert.encoder.layer.10.intermediate.dense', 'bert.encoder.layer.10.output.dense', 'bert.encoder.layer.11.attention.self.query', 'bert.encoder.layer.11.attention.self.key', 'bert.encoder.layer.11.attention.self.value', 'bert.encoder.layer.11.attention.output.dense', 'bert.encoder.layer.11.intermediate.dense', 'bert.encoder.layer.11.output.dense', 'bert.pooler.dense', 'classifier']\n",
            "Pruning en la capa: bert.encoder.layer.0.attention.self.query (Linear)\n",
            "Pruning en la capa: bert.encoder.layer.0.attention.self.key (Linear)\n",
            "Pruning en la capa: bert.encoder.layer.0.attention.self.value (Linear)\n",
            "Pruning en la capa: bert.encoder.layer.0.attention.output.dense (Linear)\n",
            "Pruning en la capa: bert.encoder.layer.0.intermediate.dense (Linear)\n",
            "Pruning en la capa: bert.encoder.layer.0.output.dense (Linear)\n",
            "Pruning en la capa: bert.encoder.layer.1.attention.self.query (Linear)\n",
            "Pruning en la capa: bert.encoder.layer.1.attention.self.key (Linear)\n",
            "Pruning en la capa: bert.encoder.layer.1.attention.self.value (Linear)\n",
            "Pruning en la capa: bert.encoder.layer.1.attention.output.dense (Linear)\n",
            "Pruning en la capa: bert.encoder.layer.1.intermediate.dense (Linear)\n",
            "Pruning en la capa: bert.encoder.layer.1.output.dense (Linear)\n",
            "Pruning en la capa: bert.encoder.layer.2.attention.self.query (Linear)\n",
            "Pruning en la capa: bert.encoder.layer.2.attention.self.key (Linear)\n",
            "Pruning en la capa: bert.encoder.layer.2.attention.self.value (Linear)\n",
            "Pruning en la capa: bert.encoder.layer.2.attention.output.dense (Linear)\n",
            "Pruning en la capa: bert.encoder.layer.2.intermediate.dense (Linear)\n",
            "Pruning en la capa: bert.encoder.layer.2.output.dense (Linear)\n",
            "Pruning en la capa: bert.encoder.layer.3.attention.self.query (Linear)\n",
            "Pruning en la capa: bert.encoder.layer.3.attention.self.key (Linear)\n",
            "Pruning en la capa: bert.encoder.layer.3.attention.self.value (Linear)\n",
            "Pruning en la capa: bert.encoder.layer.3.attention.output.dense (Linear)\n",
            "Pruning en la capa: bert.encoder.layer.3.intermediate.dense (Linear)\n",
            "Pruning en la capa: bert.encoder.layer.3.output.dense (Linear)\n",
            "Pruning en la capa: bert.encoder.layer.4.attention.self.query (Linear)\n",
            "Pruning en la capa: bert.encoder.layer.4.attention.self.key (Linear)\n",
            "Pruning en la capa: bert.encoder.layer.4.attention.self.value (Linear)\n",
            "Pruning en la capa: bert.encoder.layer.4.attention.output.dense (Linear)\n",
            "Pruning en la capa: bert.encoder.layer.4.intermediate.dense (Linear)\n",
            "Pruning en la capa: bert.encoder.layer.4.output.dense (Linear)\n",
            "Pruning en la capa: bert.encoder.layer.5.attention.self.query (Linear)\n",
            "Pruning en la capa: bert.encoder.layer.5.attention.self.key (Linear)\n",
            "Pruning en la capa: bert.encoder.layer.5.attention.self.value (Linear)\n",
            "Pruning en la capa: bert.encoder.layer.5.attention.output.dense (Linear)\n",
            "Pruning en la capa: bert.encoder.layer.5.intermediate.dense (Linear)\n",
            "Pruning en la capa: bert.encoder.layer.5.output.dense (Linear)\n",
            "Pruning en la capa: bert.encoder.layer.6.attention.self.query (Linear)\n",
            "Pruning en la capa: bert.encoder.layer.6.attention.self.key (Linear)\n",
            "Pruning en la capa: bert.encoder.layer.6.attention.self.value (Linear)\n",
            "Pruning en la capa: bert.encoder.layer.6.attention.output.dense (Linear)\n",
            "Pruning en la capa: bert.encoder.layer.6.intermediate.dense (Linear)\n",
            "Pruning en la capa: bert.encoder.layer.6.output.dense (Linear)\n",
            "Pruning en la capa: bert.encoder.layer.7.attention.self.query (Linear)\n",
            "Pruning en la capa: bert.encoder.layer.7.attention.self.key (Linear)\n",
            "Pruning en la capa: bert.encoder.layer.7.attention.self.value (Linear)\n",
            "Pruning en la capa: bert.encoder.layer.7.attention.output.dense (Linear)\n",
            "Pruning en la capa: bert.encoder.layer.7.intermediate.dense (Linear)\n",
            "Pruning en la capa: bert.encoder.layer.7.output.dense (Linear)\n",
            "Pruning en la capa: bert.encoder.layer.8.attention.self.query (Linear)\n",
            "Pruning en la capa: bert.encoder.layer.8.attention.self.key (Linear)\n",
            "Pruning en la capa: bert.encoder.layer.8.attention.self.value (Linear)\n",
            "Pruning en la capa: bert.encoder.layer.8.attention.output.dense (Linear)\n",
            "Pruning en la capa: bert.encoder.layer.8.intermediate.dense (Linear)\n",
            "Pruning en la capa: bert.encoder.layer.8.output.dense (Linear)\n",
            "Pruning en la capa: bert.encoder.layer.9.attention.self.query (Linear)\n",
            "Pruning en la capa: bert.encoder.layer.9.attention.self.key (Linear)\n",
            "Pruning en la capa: bert.encoder.layer.9.attention.self.value (Linear)\n",
            "Pruning en la capa: bert.encoder.layer.9.attention.output.dense (Linear)\n",
            "Pruning en la capa: bert.encoder.layer.9.intermediate.dense (Linear)\n",
            "Pruning en la capa: bert.encoder.layer.9.output.dense (Linear)\n",
            "Pruning en la capa: bert.encoder.layer.10.attention.self.query (Linear)\n",
            "Pruning en la capa: bert.encoder.layer.10.attention.self.key (Linear)\n",
            "Pruning en la capa: bert.encoder.layer.10.attention.self.value (Linear)\n",
            "Pruning en la capa: bert.encoder.layer.10.attention.output.dense (Linear)\n",
            "Pruning en la capa: bert.encoder.layer.10.intermediate.dense (Linear)\n",
            "Pruning en la capa: bert.encoder.layer.10.output.dense (Linear)\n",
            "Pruning en la capa: bert.encoder.layer.11.attention.self.query (Linear)\n",
            "Pruning en la capa: bert.encoder.layer.11.attention.self.key (Linear)\n",
            "Pruning en la capa: bert.encoder.layer.11.attention.self.value (Linear)\n",
            "Pruning en la capa: bert.encoder.layer.11.attention.output.dense (Linear)\n",
            "Pruning en la capa: bert.encoder.layer.11.intermediate.dense (Linear)\n",
            "Pruning en la capa: bert.encoder.layer.11.output.dense (Linear)\n",
            "Pruning en la capa: bert.pooler.dense (Linear)\n",
            "Pruning en la capa: classifier (Linear)\n",
            "Pruning completado.\n"
          ]
        }
      ]
    },
    {
      "cell_type": "code",
      "source": [
        "# Evaluar modelo luego del pruning\n",
        "print(\"Evaluación luego del pruning:\")\n",
        "eval_after = evaluate_model(model, test_dataset)\n",
        "print(eval_after)"
      ],
      "metadata": {
        "colab": {
          "base_uri": "https://localhost:8080/",
          "height": 106
        },
        "id": "w8lEXVw03Wb_",
        "outputId": "fa81e1a3-af2c-4870-92d7-d7c1a8c61884"
      },
      "execution_count": null,
      "outputs": [
        {
          "output_type": "stream",
          "name": "stdout",
          "text": [
            "Evaluación luego del pruning:\n"
          ]
        },
        {
          "output_type": "stream",
          "name": "stderr",
          "text": [
            "<ipython-input-13-1c3591d57159>:27: FutureWarning: `tokenizer` is deprecated and will be removed in version 5.0.0 for `Trainer.__init__`. Use `processing_class` instead.\n",
            "  trainer = Trainer(\n"
          ]
        },
        {
          "output_type": "display_data",
          "data": {
            "text/plain": [
              "<IPython.core.display.HTML object>"
            ],
            "text/html": [
              "\n",
              "    <div>\n",
              "      \n",
              "      <progress value='109' max='109' style='width:300px; height:20px; vertical-align: middle;'></progress>\n",
              "      [109/109 26:04]\n",
              "    </div>\n",
              "    "
            ]
          },
          "metadata": {}
        },
        {
          "output_type": "stream",
          "name": "stdout",
          "text": [
            "{'eval_loss': 0.7137880921363831, 'eval_model_preparation_time': 0.0037, 'eval_runtime': 1579.4725, 'eval_samples_per_second': 0.552, 'eval_steps_per_second': 0.069}\n"
          ]
        }
      ]
    },
    {
      "cell_type": "code",
      "source": [
        "import matplotlib.pyplot as plt\n",
        "\n",
        "# Visualización de los resultados\n",
        "def plot_comparison(eval_before, eval_after):\n",
        "    \"\"\"\n",
        "    Genera un gráfico para comparar métricas antes y después del pruning.\n",
        "    \"\"\"\n",
        "    metrics = ['eval_loss', 'eval_runtime', 'eval_samples_per_second']\n",
        "\n",
        "    # Extraer valores para las métricas seleccionadas\n",
        "    before_values = [eval_before[metric] for metric in metrics]\n",
        "    after_values = [eval_after[metric] for metric in metrics]\n",
        "\n",
        "    # Crear el gráfico\n",
        "    x = range(len(metrics))\n",
        "    plt.figure(figsize=(10, 6))\n",
        "    plt.bar(x, before_values, width=0.4, label='Antes del Pruning', align='center')\n",
        "    plt.bar([p + 0.4 for p in x], after_values, width=0.4, label='Después del Pruning', align='center')\n",
        "\n",
        "    # Etiquetas y título\n",
        "    plt.xlabel('Métricas', fontsize=12)\n",
        "    plt.ylabel('Valores', fontsize=12)\n",
        "    plt.title('Comparación de Métricas Antes y Después del Pruning', fontsize=14)\n",
        "    plt.xticks([p + 0.2 for p in x], metrics, fontsize=10)\n",
        "    plt.legend()\n",
        "    plt.grid(axis='y', linestyle='--', alpha=0.7)\n",
        "    plt.tight_layout()\n",
        "    plt.show()\n",
        "\n",
        "# Generar el gráfico\n",
        "plot_comparison(eval_before, eval_after)"
      ],
      "metadata": {
        "colab": {
          "base_uri": "https://localhost:8080/",
          "height": 607
        },
        "id": "S_U7RSi9QV-0",
        "outputId": "5928fc80-eeb2-4bcc-fbd8-9f910846c82d"
      },
      "execution_count": null,
      "outputs": [
        {
          "output_type": "display_data",
          "data": {
            "text/plain": [
              "<Figure size 1000x600 with 1 Axes>"
            ],
            "image/png": "[encoded data removed]"
          },
          "metadata": {}
        }
      ]
    },
    {
      "cell_type": "markdown",
      "source": [
        "¿Qué es el ajuste post-pruning?\n",
        "El ajuste post-pruning es una técnica utilizada luego de aplicar pruning a un modelo. Cuando se eliminan pesos en las capas del modelo, esto puede introducir cierta pérdida de precisión o degradación del rendimiento porque el modeloe stá siendo simplificado. Para contrarrestar esto, se realiza un proceso de ajuste fino adicional o fine-tunning para:\n",
        "\n",
        "1. Reentrenar los parámetros restantes: Adaptar las conexiones restantes del modelo para compensar la eliminación de pesos\n",
        "\n",
        "2. Restaurar rendimiento: Minimizar el impacto de la poda en la calidad de las predicciones\n",
        "\n",
        "3. Mejorar generalización: Reducir el sobreajuste y mantener el modelo eficiente\n",
        "\n",
        "Este ajuste implica entrenar nuevamente el modelo utilizando el conjunto de datos de entrenamiento, pero con un enfoque más específico y usualmente con un menor número de épocas y tasa de aprendizaje más baja"
      ],
      "metadata": {
        "id": "6jGCEpOMlGGG"
      }
    },
    {
      "cell_type": "code",
      "source": [
        "# Realizar predicciones en textos nuevos\n",
        "texts_to_predict = [\n",
        "    \"This movie was absolutely wonderful, with brilliant performances.\",\n",
        "    \"I found the plot extremely boring and the acting terrible.\",\n",
        "    \"An enjoyable and thought-provoking film that left a lasting impression.\"\n",
        "]\n",
        "\n",
        "# Función para predecir el sentimiento de múltiples textos\n",
        "def predict_multiple_sentiments(model, tokenizer, texts):\n",
        "    \"\"\"\n",
        "    Predice el sentimiento para una lista de textos usando el modelo BERT.\n",
        "\n",
        "    Args:\n",
        "        model: El modelo BERT entrenado para clasificación de sentimientos.\n",
        "        tokenizer: El tokenizer correspondiente al modelo BERT.\n",
        "        texts: Lista de textos para los cuales se quiere predecir el sentimiento.\n",
        "\n",
        "    Returns:\n",
        "        list: Lista de predicciones de sentimiento (1 para positivo, 0 para negativo).\n",
        "    \"\"\"\n",
        "    predictions = []\n",
        "    for text in texts:\n",
        "        sentiment = predict_sentiment(model, tokenizer, text)\n",
        "        # Convertir la predicción de texto a un valor binario: 1 para positivo, 0 para negativo\n",
        "        pred_value = 1 if sentiment == \"Positivo\" else 0\n",
        "        predictions.append(pred_value)\n",
        "    return predictions\n",
        "\n",
        "# Realizar predicciones en los textos nuevos\n",
        "print(\"Realizando predicciones en textos nuevos...\")\n",
        "predictions = predict_multiple_sentiments(post_pruning_trainer.model, tokenizer, texts_to_predict)\n",
        "\n",
        "# Interpretar resultados\n",
        "for text, pred in zip(texts_to_predict, predictions):\n",
        "    sentiment = \"Positivo\" if pred == 1 else \"Negativo\"\n",
        "    print(f\"Texto: {text}\\nPredicción: {sentiment}\\n\")"
      ],
      "metadata": {
        "id": "uixkzP7ZmOzE"
      },
      "execution_count": null,
      "outputs": []
    }
  ]
}